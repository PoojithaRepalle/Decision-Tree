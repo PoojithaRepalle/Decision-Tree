{
  "nbformat": 4,
  "nbformat_minor": 0,
  "metadata": {
    "colab": {
      "provenance": []
    },
    "kernelspec": {
      "name": "python3",
      "display_name": "Python 3"
    },
    "language_info": {
      "name": "python"
    }
  },
  "cells": [
    {
      "cell_type": "code",
      "execution_count": null,
      "metadata": {
        "colab": {
          "base_uri": "https://localhost:8080/"
        },
        "id": "ZBiZj4y3l-eF",
        "outputId": "e61725a6-033c-4d0a-aa4d-4bcdbf1dac7d"
      },
      "outputs": [
        {
          "output_type": "stream",
          "name": "stdout",
          "text": [
            "     Sepal.Length  Sepal.Width  Petal.Length  Petal.Width    Species\n",
            "0             5.1          3.5           1.4          0.2     setosa\n",
            "1             4.9          3.0           1.4          0.2     setosa\n",
            "2             4.7          3.2           1.3          0.2     setosa\n",
            "3             4.6          3.1           1.5          0.2     setosa\n",
            "4             5.0          3.6           1.4          0.2     setosa\n",
            "..            ...          ...           ...          ...        ...\n",
            "145           6.7          3.0           5.2          2.3  virginica\n",
            "146           6.3          2.5           5.0          1.9  virginica\n",
            "147           6.5          3.0           5.2          2.0  virginica\n",
            "148           6.2          3.4           5.4          2.3  virginica\n",
            "149           5.9          3.0           5.1          1.8  virginica\n",
            "\n",
            "[150 rows x 5 columns]\n"
          ]
        }
      ],
      "source": [
        "import pandas as pd\n",
        "import numpy as np\n",
        "import pandas as pd\n",
        "\n",
        "def importdata(path='iris.csv'):\n",
        "    data = pd.read_csv(path)\n",
        "    return data\n",
        "\n",
        "print(importdata())"
      ]
    },
    {
      "cell_type": "code",
      "source": [
        "from sklearn.model_selection import train_test_split\n",
        "\n",
        "# Separate features (X) and target (y)\n",
        "data = importdata()\n",
        "X = data.iloc[:, :-1]  # all columns except the last one\n",
        "y = data.iloc[:, -1]   # the last column (assumed to be the target)\n",
        "\n",
        "# Split the data into training and test sets (80% train, 20% test)\n",
        "X_train, X_test, y_train, y_test = train_test_split(X, y, test_size=0.2, random_state=42)\n",
        "\n",
        "print(\"Training set features:\\n\", X_train)\n",
        "print(\"Test set features:\\n\", X_test)\n",
        "print(\"Training set labels:\\n\", y_train)\n",
        "print(\"Test set labels:\\n\", y_test)"
      ],
      "metadata": {
        "colab": {
          "base_uri": "https://localhost:8080/"
        },
        "id": "xkCIaA_8meWa",
        "outputId": "bb0018c7-f2fd-4c7e-c69b-07f7ac4a27cd"
      },
      "execution_count": null,
      "outputs": [
        {
          "output_type": "stream",
          "name": "stdout",
          "text": [
            "Training set features:\n",
            "      Sepal.Length  Sepal.Width  Petal.Length  Petal.Width\n",
            "22            4.6          3.6           1.0          0.2\n",
            "15            5.7          4.4           1.5          0.4\n",
            "65            6.7          3.1           4.4          1.4\n",
            "11            4.8          3.4           1.6          0.2\n",
            "42            4.4          3.2           1.3          0.2\n",
            "..            ...          ...           ...          ...\n",
            "71            6.1          2.8           4.0          1.3\n",
            "106           4.9          2.5           4.5          1.7\n",
            "14            5.8          4.0           1.2          0.2\n",
            "92            5.8          2.6           4.0          1.2\n",
            "102           7.1          3.0           5.9          2.1\n",
            "\n",
            "[120 rows x 4 columns]\n",
            "Test set features:\n",
            "      Sepal.Length  Sepal.Width  Petal.Length  Petal.Width\n",
            "73            6.1          2.8           4.7          1.2\n",
            "18            5.7          3.8           1.7          0.3\n",
            "118           7.7          2.6           6.9          2.3\n",
            "78            6.0          2.9           4.5          1.5\n",
            "76            6.8          2.8           4.8          1.4\n",
            "31            5.4          3.4           1.5          0.4\n",
            "64            5.6          2.9           3.6          1.3\n",
            "141           6.9          3.1           5.1          2.3\n",
            "68            6.2          2.2           4.5          1.5\n",
            "82            5.8          2.7           3.9          1.2\n",
            "110           6.5          3.2           5.1          2.0\n",
            "12            4.8          3.0           1.4          0.1\n",
            "36            5.5          3.5           1.3          0.2\n",
            "9             4.9          3.1           1.5          0.1\n",
            "19            5.1          3.8           1.5          0.3\n",
            "56            6.3          3.3           4.7          1.6\n",
            "104           6.5          3.0           5.8          2.2\n",
            "69            5.6          2.5           3.9          1.1\n",
            "55            5.7          2.8           4.5          1.3\n",
            "132           6.4          2.8           5.6          2.2\n",
            "29            4.7          3.2           1.6          0.2\n",
            "127           6.1          3.0           4.9          1.8\n",
            "26            5.0          3.4           1.6          0.4\n",
            "128           6.4          2.8           5.6          2.1\n",
            "131           7.9          3.8           6.4          2.0\n",
            "145           6.7          3.0           5.2          2.3\n",
            "108           6.7          2.5           5.8          1.8\n",
            "143           6.8          3.2           5.9          2.3\n",
            "45            4.8          3.0           1.4          0.3\n",
            "30            4.8          3.1           1.6          0.2\n",
            "Training set labels:\n",
            " 22         setosa\n",
            "15         setosa\n",
            "65     versicolor\n",
            "11         setosa\n",
            "42         setosa\n",
            "          ...    \n",
            "71     versicolor\n",
            "106     virginica\n",
            "14         setosa\n",
            "92     versicolor\n",
            "102     virginica\n",
            "Name: Species, Length: 120, dtype: object\n",
            "Test set labels:\n",
            " 73     versicolor\n",
            "18         setosa\n",
            "118     virginica\n",
            "78     versicolor\n",
            "76     versicolor\n",
            "31         setosa\n",
            "64     versicolor\n",
            "141     virginica\n",
            "68     versicolor\n",
            "82     versicolor\n",
            "110     virginica\n",
            "12         setosa\n",
            "36         setosa\n",
            "9          setosa\n",
            "19         setosa\n",
            "56     versicolor\n",
            "104     virginica\n",
            "69     versicolor\n",
            "55     versicolor\n",
            "132     virginica\n",
            "29         setosa\n",
            "127     virginica\n",
            "26         setosa\n",
            "128     virginica\n",
            "131     virginica\n",
            "145     virginica\n",
            "108     virginica\n",
            "143     virginica\n",
            "45         setosa\n",
            "30         setosa\n",
            "Name: Species, dtype: object\n"
          ]
        }
      ]
    },
    {
      "cell_type": "code",
      "source": [
        "from sklearn.model_selection import train_test_split\n",
        "from sklearn.tree import DecisionTreeClassifier\n",
        "from sklearn.metrics import accuracy_score\n",
        "\n",
        "\n",
        "# Check if data is loaded successfully\n",
        "if data is not None:\n",
        "    print(data.head())  # Print the first few rows to verify\n",
        "\n",
        "    # Separate features (X) and target (y)\n",
        "    X = data.iloc[:, :-1]  # all columns except the last one\n",
        "    y = data.iloc[:, -1]   # the last column (assumed to be the target)\n",
        "\n",
        "    # Split the data into training and test sets (80% train, 20% test)\n",
        "    X_train, X_test, y_train, y_test = train_test_split(X, y, test_size=0.3, random_state=0)\n",
        "\n",
        "    # Create and train the Decision Tree model\n",
        "    model = DecisionTreeClassifier(random_state=42)\n",
        "    model.fit(X_train, y_train)\n",
        "\n",
        "    # Predict on the test set\n",
        "    y_pred = model.predict(X_test)\n",
        "\n",
        "    # Evaluate the model\n",
        "    accuracy = accuracy_score(y_test, y_pred)\n",
        "    print(f\"Accuracy on test set: {accuracy:.2f}\")\n",
        "else:\n",
        "    print(\"No data loaded. Please check the file path and format.\")"
      ],
      "metadata": {
        "colab": {
          "base_uri": "https://localhost:8080/"
        },
        "id": "S1K0nSVNmyAK",
        "outputId": "e33fe0c9-7d27-4b9a-9fb9-ce767bf2d5f8"
      },
      "execution_count": null,
      "outputs": [
        {
          "output_type": "stream",
          "name": "stdout",
          "text": [
            "   Sepal.Length  Sepal.Width  Petal.Length  Petal.Width Species\n",
            "0           5.1          3.5           1.4          0.2  setosa\n",
            "1           4.9          3.0           1.4          0.2  setosa\n",
            "2           4.7          3.2           1.3          0.2  setosa\n",
            "3           4.6          3.1           1.5          0.2  setosa\n",
            "4           5.0          3.6           1.4          0.2  setosa\n",
            "Accuracy on test set: 0.98\n"
          ]
        }
      ]
    },
    {
      "cell_type": "code",
      "source": [
        "from sklearn.metrics import accuracy_score, confusion_matrix\n",
        "\n",
        "# Predict on the test set\n",
        "y_pred = model.predict(X_test)\n",
        "\n",
        "# Evaluate the model\n",
        "accuracy = accuracy_score(y_test, y_pred)\n",
        "conf_matrix = confusion_matrix(y_test, y_pred)\n",
        "\n",
        "print(f\"Accuracy on test set: {accuracy:.2f}\")\n",
        "print(\"Confusion Matrix:\")\n",
        "print(conf_matrix)"
      ],
      "metadata": {
        "colab": {
          "base_uri": "https://localhost:8080/"
        },
        "id": "SF6CKIPXm4H0",
        "outputId": "157fc3da-b704-45e7-e2b6-13a5abb2678b"
      },
      "execution_count": null,
      "outputs": [
        {
          "output_type": "stream",
          "name": "stdout",
          "text": [
            "Accuracy on test set: 0.98\n",
            "Confusion Matrix:\n",
            "[[16  0  0]\n",
            " [ 0 17  1]\n",
            " [ 0  0 11]]\n"
          ]
        }
      ]
    }
  ]
}