{
  "nbformat": 4,
  "nbformat_minor": 0,
  "metadata": {
    "colab": {
      "provenance": []
    },
    "kernelspec": {
      "name": "python3",
      "display_name": "Python 3"
    },
    "language_info": {
      "name": "python"
    }
  },
  "cells": [
    {
      "cell_type": "code",
      "execution_count": null,
      "metadata": {
        "colab": {
          "base_uri": "https://localhost:8080/"
        },
        "id": "wQesigeBJzb7",
        "outputId": "e553232d-813b-40b1-a1b8-3d80838340b8"
      },
      "outputs": [
        {
          "output_type": "stream",
          "name": "stdout",
          "text": [
            "     Sky AirTemp Humidity    Wind Water Forecast  EnjoySport\n",
            "0  Sunny    Warm   Normal  Strong  Warm     Same           1\n",
            "1  Sunny    Warm     High  Strong  Warm     Same           1\n",
            "2  Rainy    Cold     High  Strong  Warm   Change           0\n",
            "3  Sunny    Warm     High  Strong  Cool   Change           1\n"
          ]
        }
      ],
      "source": [
        "import numpy as np\n",
        "import pandas as pd\n",
        "\n",
        "def importdata(path='ENJOYSPORT.csv'):\n",
        "    data = pd.read_csv(path)\n",
        "    return data\n",
        "\n",
        "print(importdata())\n",
        "\n",
        "\n"
      ]
    },
    {
      "cell_type": "code",
      "source": [
        "# Function to calculate entropy\n",
        "def calculate_entropy(column):\n",
        "    # Get the counts of each unique value in the column\n",
        "    value_counts = column.value_counts()\n",
        "\n",
        "    # Calculate probabilities\n",
        "    probabilities = value_counts / len(column)\n",
        "\n",
        "    # Calculate entropy\n",
        "    entropy = -np.sum(probabilities * np.log2(probabilities))\n",
        "\n",
        "    return entropy\n",
        "data = importdata()\n",
        "\n",
        "# Assuming 'data' is your DataFrame and 'EnjoySport' is the target column\n",
        "entropy_enjoysport = calculate_entropy(data['EnjoySport'])\n",
        "print(f\"Entropy of EnjoySport: {entropy_enjoysport}\")\n"
      ],
      "metadata": {
        "colab": {
          "base_uri": "https://localhost:8080/"
        },
        "id": "a28al0xIOLGz",
        "outputId": "f89c8a71-d27c-4161-96f0-16d9d8e2ff0d"
      },
      "execution_count": null,
      "outputs": [
        {
          "output_type": "stream",
          "name": "stdout",
          "text": [
            "Entropy of EnjoySport: 0.8112781244591328\n"
          ]
        }
      ]
    },
    {
      "cell_type": "code",
      "source": [
        "# Information Gain calculation function\n",
        "def calculate_information_gain(data, feature, target):\n",
        "    # Calculate the total entropy of the target before splitting\n",
        "    total_entropy = calculate_entropy(data[target])\n",
        "\n",
        "    # Get the unique values and their counts for the feature\n",
        "    values, counts = np.unique(data[feature], return_counts=True)\n",
        "\n",
        "    # Calculate the weighted entropy after splitting by the feature\n",
        "    weighted_entropy = 0\n",
        "    for i, value in enumerate(values):\n",
        "        subset = data[data[feature] == value][target]\n",
        "        subset_entropy = calculate_entropy(subset)\n",
        "        weight = counts[i] / len(data[feature])\n",
        "        weighted_entropy += weight * subset_entropy\n",
        "\n",
        "    # Calculate the information gain\n",
        "    info_gain = total_entropy - weighted_entropy\n",
        "    return info_gain\n",
        "\n",
        "# Example: Calculate Information Gain for the 'Sky' feature\n",
        "info_gain_sky = calculate_information_gain(data, 'Sky', 'EnjoySport')\n",
        "print(f\"Information Gain for 'Sky': {info_gain_sky}\")\n",
        "\n",
        "# Similarly, you can calculate information gain for other features\n",
        "info_gain_airtemp = calculate_information_gain(data, 'AirTemp', 'EnjoySport')\n",
        "info_gain_humidity = calculate_information_gain(data, 'Humidity', 'EnjoySport')\n",
        "\n",
        "print(f\"Information Gain for 'AirTemp': {info_gain_airtemp}\")\n",
        "print(f\"Information Gain for 'Humidity': {info_gain_humidity}\")\n"
      ],
      "metadata": {
        "id": "bM5A5WSbXP9D",
        "colab": {
          "base_uri": "https://localhost:8080/"
        },
        "outputId": "6d9c0d1e-a85b-4b3e-b95e-a8f1b1ae781f"
      },
      "execution_count": null,
      "outputs": [
        {
          "output_type": "stream",
          "name": "stdout",
          "text": [
            "Information Gain for 'Sky': 0.8112781244591328\n",
            "Information Gain for 'AirTemp': 0.8112781244591328\n",
            "Information Gain for 'Humidity': 0.12255624891826566\n"
          ]
        }
      ]
    },
    {
      "cell_type": "code",
      "source": [
        "class DecisionTreeID3:\n",
        "    def __init__(self):\n",
        "        self.tree = None\n",
        "\n",
        "    # Function to calculate entropy\n",
        "    def calculate_entropy(self, column):\n",
        "        value_counts = column.value_counts()\n",
        "        probabilities = value_counts / len(column)\n",
        "        entropy = -np.sum(probabilities * np.log2(probabilities + 1e-9))  # Avoid log(0)\n",
        "        return entropy\n",
        "\n",
        "    # Function to build the decision tree in a predefined order\n",
        "    def build_tree_predefined(self, data, feature_order, target):\n",
        "        # Base case 1: If all target values are the same, return that value\n",
        "        if len(np.unique(data[target])) == 1:\n",
        "            return np.unique(data[target])[0]\n",
        "\n",
        "        # Base case 2: If there are no more features to split on, return the majority value\n",
        "        elif len(feature_order) == 0:\n",
        "            return data[target].mode()[0]\n",
        "\n",
        "        else:\n",
        "            # Use the first feature in the predefined feature order\n",
        "            best_feature = feature_order[0]\n",
        "\n",
        "            # Create the root node for the tree\n",
        "            tree = {best_feature: {}}\n",
        "\n",
        "            # Remove the feature that was just used from the list of features\n",
        "            remaining_features = feature_order[1:]\n",
        "\n",
        "            # Split the dataset by the best feature and recursively build the tree\n",
        "            for value in np.unique(data[best_feature]):\n",
        "                subset = data[data[best_feature] == value]\n",
        "                subtree = self.build_tree_predefined(subset, remaining_features, target)\n",
        "                tree[best_feature][value] = subtree\n",
        "\n",
        "            return tree\n",
        "\n",
        "    # Fit the model with a predefined feature order\n",
        "    def fit_predefined(self, data, feature_order, target):\n",
        "        self.tree = self.build_tree_predefined(data, feature_order, target)\n",
        "\n",
        "    # Print the decision tree in the format you desire\n",
        "    def print_tree(self, tree=None, indent=\"  \"):\n",
        "        if tree is None:\n",
        "            tree = self.tree\n",
        "        if isinstance(tree, dict):\n",
        "            for key, value in tree.items():\n",
        "                print(f\"{indent}{key}\")\n",
        "                self.print_tree(value, indent + \"  \")\n",
        "        else:\n",
        "            print(f\"{indent}-> {tree}\")\n",
        "\n",
        "# Example usage:\n",
        "\n",
        "# Create the dataset\n",
        "data = pd.DataFrame({\n",
        "    'Sky': ['Sunny', 'Sunny', 'Rainy', 'Rainy'],\n",
        "    'AirTemp': ['Warm', 'Warm', 'Warm', 'Cold'],\n",
        "    'EnjoySport': [1, 1, 1, 0]\n",
        "})\n",
        "\n",
        "# Initialize the Decision Tree\n",
        "tree_model = DecisionTreeID3()\n",
        "\n",
        "# Define the feature order (first split by 'Sky', then by 'AirTemp')\n",
        "feature_order = ['Sky', 'AirTemp']\n",
        "\n",
        "# Fit the tree using the predefined feature order\n",
        "tree_model.fit_predefined(data, feature_order, 'EnjoySport')\n",
        "\n",
        "# Print the decision tree\n",
        "tree_model.print_tree()\n"
      ],
      "metadata": {
        "colab": {
          "base_uri": "https://localhost:8080/"
        },
        "id": "cwGe08L32yuF",
        "outputId": "ca437a7e-a57c-489b-8554-15e4345be95b"
      },
      "execution_count": null,
      "outputs": [
        {
          "output_type": "stream",
          "name": "stdout",
          "text": [
            "  Sky\n",
            "    Rainy\n",
            "      AirTemp\n",
            "        Cold\n",
            "          -> 0\n",
            "        Warm\n",
            "          -> 1\n",
            "    Sunny\n",
            "      -> 1\n"
          ]
        }
      ]
    }
  ]
}